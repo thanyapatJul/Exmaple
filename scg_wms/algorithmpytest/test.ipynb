{
 "cells": [
  {
   "cell_type": "code",
   "execution_count": 48,
   "metadata": {},
   "outputs": [
    {
     "name": "stdout",
     "output_type": "stream",
     "text": [
      "<class 'pandas.core.frame.DataFrame'>\n",
      "RangeIndex: 78341 entries, 0 to 78340\n",
      "Data columns (total 25 columns):\n",
      " #   Column            Non-Null Count  Dtype         \n",
      "---  ------            --------------  -----         \n",
      " 0   OrderNumber       78341 non-null  object        \n",
      " 1   ProdOrderDate     78341 non-null  datetime64[ns]\n",
      " 2   Machine           78341 non-null  object        \n",
      " 3   Shift             78341 non-null  object        \n",
      " 4   OperatorName      31510 non-null  object        \n",
      " 5   MaterialName      45729 non-null  object        \n",
      " 6   MaterialCode      45732 non-null  object        \n",
      " 7   StartTime         78300 non-null  object        \n",
      " 8   Duration          78300 non-null  float64       \n",
      " 9   RunningDuration   78300 non-null  float64       \n",
      " 10  DowntimeDuration  78300 non-null  float64       \n",
      " 11  LabTestCount      37182 non-null  float64       \n",
      " 12  GoodCount         45503 non-null  float64       \n",
      " 13  RejectCount       22971 non-null  float64       \n",
      " 14  LockCount         2446 non-null   float64       \n",
      " 15  น้ำหนักต่อแผ่น    45732 non-null  float64       \n",
      " 16  GoodWeight        45503 non-null  float64       \n",
      " 17  LockWeight        2446 non-null   float64       \n",
      " 18  RejectWeight      22971 non-null  float64       \n",
      " 19  LabTestWeight     37182 non-null  float64       \n",
      " 20  AllWeight         45732 non-null  float64       \n",
      " 21  Gross0Count       45731 non-null  float64       \n",
      " 22  Gross0DryWeight   45732 non-null  float64       \n",
      " 23  MachineID         78341 non-null  int64         \n",
      " 24  Plant             78341 non-null  object        \n",
      "dtypes: datetime64[ns](1), float64(15), int64(1), object(8)\n",
      "memory usage: 14.9+ MB\n",
      "None\n"
     ]
    }
   ],
   "source": [
    "import pandas as pd\n",
    "from sklearn.model_selection import train_test_split\n",
    "\n",
    "# Load the dataset\n",
    "data = pd.read_csv('History20_22.csv', parse_dates=['ProdOrderDate'])\n",
    "\n",
    "# Display basic info about the dataset\n",
    "print(data.info())\n"
   ]
  },
  {
   "cell_type": "code",
   "execution_count": 45,
   "metadata": {},
   "outputs": [],
   "source": [
    "# Extract features from ProdOrderDate\n",
    "data['Year'] = data['ProdOrderDate'].dt.year\n",
    "data['Month'] = data['ProdOrderDate'].dt.month\n",
    "data['DayOfWeek'] = data['ProdOrderDate'].dt.dayofweek\n",
    "data['IsWeekend'] = data['DayOfWeek'].apply(lambda x: 1 if x >= 5 else 0)\n",
    "\n",
    "# Encode categorical variables\n",
    "data = pd.get_dummies(data, columns=['MaterialCode', 'Shift'], drop_first=True)\n"
   ]
  },
  {
   "cell_type": "code",
   "execution_count": 49,
   "metadata": {},
   "outputs": [
    {
     "name": "stdout",
     "output_type": "stream",
     "text": [
      "OrderNumber             0\n",
      "ProdOrderDate           0\n",
      "Machine                 0\n",
      "Shift                   0\n",
      "OperatorName        46831\n",
      "MaterialName        32612\n",
      "MaterialCode        32609\n",
      "StartTime              41\n",
      "Duration               41\n",
      "RunningDuration        41\n",
      "DowntimeDuration       41\n",
      "LabTestCount        41159\n",
      "GoodCount           32838\n",
      "RejectCount         55370\n",
      "LockCount           75895\n",
      "น้ำหนักต่อแผ่น      32609\n",
      "GoodWeight          32838\n",
      "LockWeight          75895\n",
      "RejectWeight        55370\n",
      "LabTestWeight       41159\n",
      "AllWeight           32609\n",
      "Gross0Count         32610\n",
      "Gross0DryWeight     32609\n",
      "MachineID               0\n",
      "Plant                   0\n",
      "dtype: int64\n"
     ]
    }
   ],
   "source": [
    "# Check for missing values\n",
    "print(data.isnull().sum())\n",
    "\n"
   ]
  },
  {
   "cell_type": "code",
   "execution_count": null,
   "metadata": {},
   "outputs": [],
   "source": [
    "import sys\n",
    "!{sys.executable} -m pip install scikit-learn\n"
   ]
  }
 ],
 "metadata": {
  "kernelspec": {
   "display_name": "Python 3",
   "language": "python",
   "name": "python3"
  },
  "language_info": {
   "codemirror_mode": {
    "name": "ipython",
    "version": 3
   },
   "file_extension": ".py",
   "mimetype": "text/x-python",
   "name": "python",
   "nbconvert_exporter": "python",
   "pygments_lexer": "ipython3",
   "version": "3.11.5"
  }
 },
 "nbformat": 4,
 "nbformat_minor": 2
}
